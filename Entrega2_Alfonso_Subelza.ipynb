{
 "cells": [
  {
   "cell_type": "markdown",
   "id": "f291e06b-8057-4154-bb4b-14d7f5ea3cc7",
   "metadata": {},
   "source": [
    "                                                    2da Entrega\n",
    "                                            \"Prompt para escoger un juego a medida\"\n",
    "\n",
    "Para elegir un juego a medida que se adapte a sus intereses y necesidades, me parecio útil crear un prompt detallado que capture lo que buscas. \n",
    "\n",
    "Por esto mismo estuve pensando y apoyandome en la IA para crear o diseñar un prompt que podrías usar para definir un juego personalizado:\n",
    "\n",
    "\n",
    "Prompt para escoger un juego a medida, la logica que voy a aplicar es la siguiente:\n",
    "\n",
    "\"Quiero un juego personalizado que sea [indicar tipo de juego: de mesa, de rol, de cartas, de video, etc.]. Este juego debe tener [número de jugadores], y su dificultad debe ser [fácil, media, difícil]. La temática me gustaría que fuera [fantasía, ciencia ficción, misterio, histórico, etc.]. El ritmo de juego debe ser [rápido, moderado, lento] y el tiempo aproximado de duración de una partida debería ser de [x] minutos. \n",
    "\n",
    "En cuanto a la jugabilidad, me gustaría que tenga [elementos clave como estrategia, azar, exploración, combate, narrativa, interacción social, etc.]. Además, la estética visual o la ambientación debe ser [detallar aspectos visuales, como color, estilo gráfico, tipo de ilustración]. El juego debe incluir [mecánicas como cartas, dados, tableros, recursos, habilidades especiales, etc.] y ser apto para [indicar si tiene restricciones de edad, para grupos pequeños o grandes, si es adecuado para familias, etc.].\"\n",
    "\n"
   ]
  },
  {
   "cell_type": "code",
   "execution_count": 15,
   "id": "04c3892f-6dec-43d9-8951-6d0e7b3cc3a2",
   "metadata": {},
   "outputs": [],
   "source": [
    "# Importamos las dependencias de OpenAI y demas\n",
    "import openai\n",
    "import requests\n",
    "import os\n",
    "from io import BytesIO\n",
    "from PIL import Image"
   ]
  },
  {
   "cell_type": "code",
   "execution_count": 16,
   "id": "3b50b5d6-bc03-4689-b1dd-e30db86b9585",
   "metadata": {
    "jp-MarkdownHeadingCollapsed": true
   },
   "outputs": [],
   "source": [
    "# Agregamos nuestra clave de API de OpenAI\n",
    "openai.api_key = \"\" #Example -> dw-bQyr9128F49VJRNKAnST32lbkFJ2Zv4qEhWo4R0Xh6yrh15"
   ]
  },
  {
   "cell_type": "code",
   "execution_count": 17,
   "id": "1e228331-5db6-4469-8631-77188b7026dc",
   "metadata": {},
   "outputs": [],
   "source": [
    "context =\"Eres un gamer experimentado, con muchas años de experiencia y acceso a todos los juegos existentes\""
   ]
  },
  {
   "cell_type": "code",
   "execution_count": 18,
   "id": "0aa0a1b6-74f6-4049-bed9-629e3c66c0d6",
   "metadata": {},
   "outputs": [
    {
     "name": "stdout",
     "output_type": "stream",
     "text": [
      "Bienvenido al generador de juegos personalizados. Responde las siguientes preguntas:\n"
     ]
    },
    {
     "name": "stdin",
     "output_type": "stream",
     "text": [
      "¿Qué tipo de juego te gustaría? (Ejemplo: de mesa, de rol, de cartas, de video):  de video\n",
      "¿Cuántos jugadores participarán? (Número entero):  100\n",
      "¿Qué dificultad deseas para el juego? (fácil, media, difícil):  dificil\n",
      "¿Qué temática te gustaría para el juego? (Ejemplo: fantasía, ciencia ficción, misterio, histórico):  terror\n",
      "¿Qué ritmo de juego prefieres? (rápido, moderado, lento):  rapido\n",
      "¿Cuánto tiempo debería durar una partida? (En minutos):  60\n",
      "¿Qué elementos clave deseas en la jugabilidad? (Ejemplo: estrategia, azar, exploración, combate, narrativa, interacción social):  exploracion\n",
      "¿Cómo te gustaría que sea la estética visual o la ambientación? (Ejemplo: colores brillantes, estilo futurista, dibujos animados, realista):  estilo futurista\n",
      "¿Qué mecánicas te gustaría que tuviera el juego? (Ejemplo: cartas, dados, tableros, recursos, habilidades especiales):  habilidades especiales\n",
      "¿Hay restricciones de edad o tipo de público? (Ejemplo: adecuado para todas las edades, para grupos grandes, para niños, etc.):  para grupos grandes\n"
     ]
    },
    {
     "name": "stdout",
     "output_type": "stream",
     "text": [
      "\n",
      "Resumen del juego generado por la IA:\n",
      "1. Título: \"CyberNightmare: El Laberinto del Terror\"\n",
      "   \n",
      "2. Comentario: Un juego de mesa de terror futurista donde 100 jugadores exploran un laberinto cibernético lleno de peligros y misterios en una carrera contrarreloj.\n",
      "\n",
      "3. Dinámica del juego: Los jugadores asumen roles con habilidades especiales, colaborando para explorar el laberinto y enfrentar desafíos terroríficos. Deben tomar decisiones estratégicas rápidas para avanzar y superar obstáculos, mientras descubren secretos y evitan ser eliminados. El ritmo rápido y la temática de terror mantienen la tensión durante toda la partida de 60 minutos.\n",
      "\n",
      "4. Con CyberNightmare, los jugadores se sumergen en una experiencia única, donde la exploración, la colaboración y la gestión del tiempo son clave para sobrevivir en un entorno futurista lleno de peligros. Ideal para grupos grandes que buscan un desafío intenso y emocionante.\n"
     ]
    }
   ],
   "source": [
    "# Función para generar respuesta usando la API de OpenAI\n",
    "def obtener_respuesta_de_IA(juego_info):\n",
    "    prompt = f\"\"\"\n",
    "    Tienes que ayudar a diseñar un juego de mesa personalizado basado en la siguiente información:\n",
    "    Tipo de juego: {juego_info['Tipo de juego']}\n",
    "    Número de jugadores: {juego_info['Número de jugadores']}\n",
    "    Dificultad: {juego_info['Dificultad']}\n",
    "    Temática: {juego_info['Temática']}\n",
    "    Ritmo de juego: {juego_info['Ritmo de juego']}\n",
    "    Duración de partida: {juego_info['Duración de partida (min)']} minutos\n",
    "    Elementos clave de jugabilidad: {juego_info['Elementos clave de jugabilidad']}\n",
    "    Estética visual: {juego_info['Estética visual']}\n",
    "    Mecánicas: {juego_info['Mecánicas']}\n",
    "    Restricciones de público: {juego_info['Restricciones de público']}\n",
    "    \n",
    "    Proporciona un resumen con:\n",
    "    1. Un título breve para el juego.\n",
    "    2. Un comentario corto (menos de 100 tokens) sobre la esencia del juego.\n",
    "    3. Una descripción de la dinámica del juego y las mecánicas (claras y concisas).\n",
    "    4. Asegúrate de que la respuesta sea clara, fácil de entender y profesional.\n",
    "    \"\"\"\n",
    "\n",
    "    try:\n",
    "        # Llamada a la API de OpenAI para generar la respuesta (usando el modelo gpt-3.5-turbo y el endpoint de chat)\n",
    "        respuesta = openai.ChatCompletion.create(\n",
    "            model=\"gpt-3.5-turbo\",  # Usamos el modelo gpt-3.5-turbo\n",
    "            messages=[\n",
    "                {\"role\": \"system\", \"content\": \"Eres un asistente experto en diseño de juegos de mesa.\"},\n",
    "                {\"role\": \"user\", \"content\": prompt}\n",
    "            ],\n",
    "            temperature=0.7,  # Controla la creatividad de la respuesta\n",
    "            max_tokens=300  # Ajusta la longitud de la respuesta\n",
    "        )\n",
    "        \n",
    "        # Extraer y retornar la respuesta\n",
    "        return respuesta['choices'][0]['message']['content'].strip()\n",
    "\n",
    "    except Exception as e:\n",
    "        # Si ocurre algún error, lo imprimimos\n",
    "        print(f\"Error al obtener la respuesta de la IA: {e}\")\n",
    "        return None\n",
    "\n",
    "# Función para interactuar con el usuario\n",
    "def obtener_input_usuario():\n",
    "    print(\"Bienvenido al generador de juegos personalizados. Responde las siguientes preguntas:\")\n",
    "    \n",
    "    tipo_juego = input(\"¿Qué tipo de juego te gustaría? (Ejemplo: de mesa, de rol, de cartas, de video): \")\n",
    "    jugadores = int(input(\"¿Cuántos jugadores participarán? (Número entero): \"))\n",
    "    dificultad = input(\"¿Qué dificultad deseas para el juego? (fácil, media, difícil): \").lower()\n",
    "    tematica = input(\"¿Qué temática te gustaría para el juego? (Ejemplo: fantasía, ciencia ficción, misterio, histórico): \")\n",
    "    ritmo = input(\"¿Qué ritmo de juego prefieres? (rápido, moderado, lento): \").lower()\n",
    "    duracion = int(input(\"¿Cuánto tiempo debería durar una partida? (En minutos): \"))\n",
    "    jugabilidad = input(\"¿Qué elementos clave deseas en la jugabilidad? (Ejemplo: estrategia, azar, exploración, combate, narrativa, interacción social): \")\n",
    "    estetica = input(\"¿Cómo te gustaría que sea la estética visual o la ambientación? (Ejemplo: colores brillantes, estilo futurista, dibujos animados, realista): \")\n",
    "    mecanicas = input(\"¿Qué mecánicas te gustaría que tuviera el juego? (Ejemplo: cartas, dados, tableros, recursos, habilidades especiales): \")\n",
    "    restricciones = input(\"¿Hay restricciones de edad o tipo de público? (Ejemplo: adecuado para todas las edades, para grupos grandes, para niños, etc.): \")\n",
    "\n",
    "    return {\n",
    "        \"Tipo de juego\": tipo_juego,\n",
    "        \"Número de jugadores\": jugadores,\n",
    "        \"Dificultad\": dificultad,\n",
    "        \"Temática\": tematica,\n",
    "        \"Ritmo de juego\": ritmo,\n",
    "        \"Duración de partida (min)\": duracion,\n",
    "        \"Elementos clave de jugabilidad\": jugabilidad,\n",
    "        \"Estética visual\": estetica,\n",
    "        \"Mecánicas\": mecanicas,\n",
    "        \"Restricciones de público\": restricciones\n",
    "    }\n",
    "\n",
    "# Obtener entrada del usuario\n",
    "juego_personalizado = obtener_input_usuario()\n",
    "\n",
    "# Generar respuesta usando IA\n",
    "respuesta_IA = obtener_respuesta_de_IA(juego_personalizado)\n",
    "\n",
    "# Mostrar la respuesta generada por la IA\n",
    "if respuesta_IA:\n",
    "    print(\"\\nResumen del juego generado por la IA:\")\n",
    "    print(respuesta_IA)\n",
    "else:\n",
    "    print(\"No se pudo generar una respuesta.\")\n"
   ]
  },
  {
   "cell_type": "code",
   "execution_count": null,
   "id": "ddee6131-3eec-4c81-978b-e271ef48c6f4",
   "metadata": {},
   "outputs": [],
   "source": []
  }
 ],
 "metadata": {
  "kernelspec": {
   "display_name": "Python 3 (ipykernel)",
   "language": "python",
   "name": "python3"
  },
  "language_info": {
   "codemirror_mode": {
    "name": "ipython",
    "version": 3
   },
   "file_extension": ".py",
   "mimetype": "text/x-python",
   "name": "python",
   "nbconvert_exporter": "python",
   "pygments_lexer": "ipython3",
   "version": "3.10.16"
  }
 },
 "nbformat": 4,
 "nbformat_minor": 5
}
